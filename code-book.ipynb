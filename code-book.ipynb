{
 "cells": [
  {
   "cell_type": "code",
   "execution_count": 1,
   "id": "6369df24",
   "metadata": {},
   "outputs": [
    {
     "name": "stdout",
     "output_type": "stream",
     "text": [
      "Dataset loaded successfully!\n"
     ]
    },
    {
     "data": {
      "text/html": [
       "<div>\n",
       "<style scoped>\n",
       "    .dataframe tbody tr th:only-of-type {\n",
       "        vertical-align: middle;\n",
       "    }\n",
       "\n",
       "    .dataframe tbody tr th {\n",
       "        vertical-align: top;\n",
       "    }\n",
       "\n",
       "    .dataframe thead th {\n",
       "        text-align: right;\n",
       "    }\n",
       "</style>\n",
       "<table border=\"1\" class=\"dataframe\">\n",
       "  <thead>\n",
       "    <tr style=\"text-align: right;\">\n",
       "      <th></th>\n",
       "      <th>MedInc</th>\n",
       "      <th>HouseAge</th>\n",
       "      <th>AveRooms</th>\n",
       "      <th>AveBedrms</th>\n",
       "      <th>Population</th>\n",
       "      <th>AveOccup</th>\n",
       "      <th>Latitude</th>\n",
       "      <th>Longitude</th>\n",
       "      <th>Price</th>\n",
       "    </tr>\n",
       "  </thead>\n",
       "  <tbody>\n",
       "    <tr>\n",
       "      <th>0</th>\n",
       "      <td>8.3252</td>\n",
       "      <td>41.0</td>\n",
       "      <td>6.984127</td>\n",
       "      <td>1.023810</td>\n",
       "      <td>322.0</td>\n",
       "      <td>2.555556</td>\n",
       "      <td>37.88</td>\n",
       "      <td>-122.23</td>\n",
       "      <td>4.526</td>\n",
       "    </tr>\n",
       "    <tr>\n",
       "      <th>1</th>\n",
       "      <td>8.3014</td>\n",
       "      <td>21.0</td>\n",
       "      <td>6.238137</td>\n",
       "      <td>0.971880</td>\n",
       "      <td>2401.0</td>\n",
       "      <td>2.109842</td>\n",
       "      <td>37.86</td>\n",
       "      <td>-122.22</td>\n",
       "      <td>3.585</td>\n",
       "    </tr>\n",
       "    <tr>\n",
       "      <th>2</th>\n",
       "      <td>7.2574</td>\n",
       "      <td>52.0</td>\n",
       "      <td>8.288136</td>\n",
       "      <td>1.073446</td>\n",
       "      <td>496.0</td>\n",
       "      <td>2.802260</td>\n",
       "      <td>37.85</td>\n",
       "      <td>-122.24</td>\n",
       "      <td>3.521</td>\n",
       "    </tr>\n",
       "    <tr>\n",
       "      <th>3</th>\n",
       "      <td>5.6431</td>\n",
       "      <td>52.0</td>\n",
       "      <td>5.817352</td>\n",
       "      <td>1.073059</td>\n",
       "      <td>558.0</td>\n",
       "      <td>2.547945</td>\n",
       "      <td>37.85</td>\n",
       "      <td>-122.25</td>\n",
       "      <td>3.413</td>\n",
       "    </tr>\n",
       "    <tr>\n",
       "      <th>4</th>\n",
       "      <td>3.8462</td>\n",
       "      <td>52.0</td>\n",
       "      <td>6.281853</td>\n",
       "      <td>1.081081</td>\n",
       "      <td>565.0</td>\n",
       "      <td>2.181467</td>\n",
       "      <td>37.85</td>\n",
       "      <td>-122.25</td>\n",
       "      <td>3.422</td>\n",
       "    </tr>\n",
       "  </tbody>\n",
       "</table>\n",
       "</div>"
      ],
      "text/plain": [
       "   MedInc  HouseAge  AveRooms  AveBedrms  Population  AveOccup  Latitude  \\\n",
       "0  8.3252      41.0  6.984127   1.023810       322.0  2.555556     37.88   \n",
       "1  8.3014      21.0  6.238137   0.971880      2401.0  2.109842     37.86   \n",
       "2  7.2574      52.0  8.288136   1.073446       496.0  2.802260     37.85   \n",
       "3  5.6431      52.0  5.817352   1.073059       558.0  2.547945     37.85   \n",
       "4  3.8462      52.0  6.281853   1.081081       565.0  2.181467     37.85   \n",
       "\n",
       "   Longitude  Price  \n",
       "0    -122.23  4.526  \n",
       "1    -122.22  3.585  \n",
       "2    -122.24  3.521  \n",
       "3    -122.25  3.413  \n",
       "4    -122.25  3.422  "
      ]
     },
     "execution_count": 1,
     "metadata": {},
     "output_type": "execute_result"
    }
   ],
   "source": [
    "# Import necessary libraries\n",
    "import pandas as pd\n",
    "import numpy as np\n",
    "import matplotlib.pyplot as plt\n",
    "import seaborn as sns\n",
    "from sklearn.datasets import fetch_california_housing\n",
    "from sklearn.model_selection import train_test_split\n",
    "from sklearn.linear_model import LinearRegression\n",
    "from sklearn.metrics import mean_absolute_error, mean_squared_error, r2_score\n",
    "\n",
    "# Load the California Housing dataset\n",
    "housing = fetch_california_housing()\n",
    "df = pd.DataFrame(housing.data, columns=housing.feature_names)\n",
    "df['Price'] = housing.target\n",
    "\n",
    "print(\"Dataset loaded successfully!\")\n",
    "df.head()"
   ]
  },
  {
   "cell_type": "markdown",
   "id": "f4e53d6e",
   "metadata": {},
   "source": [
    "## Part 1: Simple Linear Regression\n",
    "Here, we'll try to predict the house price using only one feature: the median income (MedInc).\n",
    "\n",
    "Step 1 & 2: Select Features and Split Data\n",
    "We select our independent variable (X) and dependent variable (y), then split them into training and testing sets"
   ]
  },
  {
   "cell_type": "code",
   "execution_count": 2,
   "id": "c8ab6422",
   "metadata": {},
   "outputs": [],
   "source": [
    "# Select a single feature (X) and the target (y)\n",
    "X_simple = df[['MedInc']] # Median Income\n",
    "y_simple = df['Price']\n",
    "\n",
    "# Split the data into training and testing sets\n",
    "X_train_simple, X_test_simple, y_train_simple, y_test_simple = train_test_split(\n",
    "    X_simple, y_simple, test_size=0.2, random_state=42\n",
    ")"
   ]
  },
  {
   "cell_type": "markdown",
   "id": "543dc632",
   "metadata": {},
   "source": [
    "### Step 3: Fit the Linear Regression Model\n",
    "Now, we'll create and train our model on the training data."
   ]
  },
  {
   "cell_type": "code",
   "execution_count": 3,
   "id": "653fe110",
   "metadata": {},
   "outputs": [
    {
     "name": "stdout",
     "output_type": "stream",
     "text": [
      "Simple Linear Regression model fitted successfully.\n"
     ]
    }
   ],
   "source": [
    "# Create a Linear Regression model instance\n",
    "simple_model = LinearRegression()\n",
    "\n",
    "# Fit the model to the training data\n",
    "simple_model.fit(X_train_simple, y_train_simple)\n",
    "print(\"Simple Linear Regression model fitted successfully.\")"
   ]
  },
  {
   "cell_type": "markdown",
   "id": "7fd1605d",
   "metadata": {},
   "source": [
    "### Step 4: Evaluate the Model\n",
    "We'll use the trained model to make predictions on the test data and evaluate its performance using MAE, MSE, and R²."
   ]
  },
  {
   "cell_type": "code",
   "execution_count": 4,
   "id": "363a583b",
   "metadata": {},
   "outputs": [
    {
     "name": "stdout",
     "output_type": "stream",
     "text": [
      "Mean Absolute Error (MAE): 0.63\n",
      "Mean Squared Error (MSE): 0.71\n",
      "R-squared (R²): 0.46\n"
     ]
    }
   ],
   "source": [
    "# Make predictions on the test set\n",
    "y_pred_simple = simple_model.predict(X_test_simple)\n",
    "\n",
    "# Evaluate the model\n",
    "mae_simple = mean_absolute_error(y_test_simple, y_pred_simple)\n",
    "mse_simple = mean_squared_error(y_test_simple, y_pred_simple)\n",
    "r2_simple = r2_score(y_test_simple, y_pred_simple)\n",
    "\n",
    "print(f\"Mean Absolute Error (MAE): {mae_simple:.2f}\")\n",
    "print(f\"Mean Squared Error (MSE): {mse_simple:.2f}\")\n",
    "print(f\"R-squared (R²): {r2_simple:.2f}\")"
   ]
  },
  {
   "cell_type": "markdown",
   "id": "a6145b75",
   "metadata": {},
   "source": [
    "### Step 5: Plot Regression Line and Interpret Coefficients\n",
    "Let's visualize the model's predictions and interpret what it has learned."
   ]
  },
  {
   "cell_type": "code",
   "execution_count": 5,
   "id": "5f4df2b4",
   "metadata": {},
   "outputs": [
    {
     "data": {
      "image/png": "[encoded data removed]",
      "text/plain": [
       "<Figure size 1000x600 with 1 Axes>"
      ]
     },
     "metadata": {},
     "output_type": "display_data"
    },
    {
     "name": "stdout",
     "output_type": "stream",
     "text": [
      "Coefficient (slope): 0.42\n",
      "Intercept: 0.44\n"
     ]
    }
   ],
   "source": [
    "# Plot the regression line\n",
    "plt.figure(figsize=(10, 6))\n",
    "plt.scatter(X_test_simple, y_test_simple, color='blue', label='Actual Prices')\n",
    "plt.plot(X_test_simple, y_pred_simple, color='red', linewidth=2, label='Regression Line')\n",
    "plt.title('Simple Linear Regression: Median Income vs. House Price')\n",
    "plt.xlabel('Median Income')\n",
    "plt.ylabel('House Price')\n",
    "plt.legend()\n",
    "plt.show()\n",
    "\n",
    "# Interpret the coefficients\n",
    "print(f\"Coefficient (slope): {simple_model.coef_[0]:.2f}\")\n",
    "print(f\"Intercept: {simple_model.intercept_:.2f}\")"
   ]
  },
  {
   "cell_type": "markdown",
   "id": "03af6a85",
   "metadata": {},
   "source": [
    "Interpretation: The model learned a coefficient of about 0.42. This means for every one-unit increase in Median Income, the predicted house price increases by approximately 0.42 units (or $42,000, since prices are in $100k)."
   ]
  },
  {
   "cell_type": "markdown",
   "id": "687bce5e",
   "metadata": {},
   "source": [
    "## Part 2: Multiple Linear Regression\n",
    "Now, let's build a more powerful model using all the available features.\n",
    "\n",
    "Step 1 & 2: Select Features and Split Data\n",
    "This time, X will include all the feature columns."
   ]
  },
  {
   "cell_type": "code",
   "execution_count": 6,
   "id": "d7acad25",
   "metadata": {},
   "outputs": [],
   "source": [
    "# Select all features (X) and the target (y)\n",
    "X_multi = df.drop('Price', axis=1)\n",
    "y_multi = df['Price']\n",
    "\n",
    "# Split the data\n",
    "X_train_multi, X_test_multi, y_train_multi, y_test_multi = train_test_split(\n",
    "    X_multi, y_multi, test_size=0.2, random_state=42\n",
    ")"
   ]
  },
  {
   "cell_type": "code",
   "execution_count": null,
   "id": "52794e53",
   "metadata": {},
   "outputs": [
    {
     "name": "stdout",
     "output_type": "stream",
     "text": [
      "Multiple Linear Regression model fitted successfully.\n"
     ]
    }
   ],
   "source": [
    "# Step 3: Fit the Model\n",
    "\n",
    "multi_model = LinearRegression()\n",
    "multi_model.fit(X_train_multi, y_train_multi)\n",
    "print(\"Multiple Linear Regression model fitted successfully.\")"
   ]
  },
  {
   "cell_type": "code",
   "execution_count": null,
   "id": "6028e6bf",
   "metadata": {},
   "outputs": [
    {
     "name": "stdout",
     "output_type": "stream",
     "text": [
      "Mean Absolute Error (MAE): 0.53\n",
      "Mean Squared Error (MSE): 0.56\n",
      "R-squared (R²): 0.58\n"
     ]
    }
   ],
   "source": [
    "### Step 4: Evaluate the Model\n",
    "# Let's see if using more features improved our R² score.\n",
    "\n",
    "# Make predictions and evaluate\n",
    "y_pred_multi = multi_model.predict(X_test_multi)\n",
    "mae_multi = mean_absolute_error(y_test_multi, y_pred_multi)\n",
    "mse_multi = mean_squared_error(y_test_multi, y_pred_multi)\n",
    "r2_multi = r2_score(y_test_multi, y_pred_multi)\n",
    "\n",
    "print(f\"Mean Absolute Error (MAE): {mae_multi:.2f}\")\n",
    "print(f\"Mean Squared Error (MSE): {mse_multi:.2f}\")\n",
    "print(f\"R-squared (R²): {r2_multi:.2f}\")\n",
    "\n",
    "\n"
   ]
  },
  {
   "cell_type": "markdown",
   "id": "35c8c1b4",
   "metadata": {},
   "source": [
    "Observation: The R² score (e.g., around 0.59) is significantly higher than the simple model's R² (around 0.47), indicating that this model explains more of the variance in house prices."
   ]
  },
  {
   "cell_type": "code",
   "execution_count": null,
   "id": "ef1f604c",
   "metadata": {},
   "outputs": [
    {
     "name": "stdout",
     "output_type": "stream",
     "text": [
      "            Coefficient\n",
      "MedInc         0.448675\n",
      "HouseAge       0.009724\n",
      "AveRooms      -0.123323\n",
      "AveBedrms      0.783145\n",
      "Population    -0.000002\n",
      "AveOccup      -0.003526\n",
      "Latitude      -0.419792\n",
      "Longitude     -0.433708\n"
     ]
    }
   ],
   "source": [
    "###Step 5: Interpret Coefficients\n",
    "# We can't plot a single line for multiple features, but we can examine the coefficients for each feature.\n",
    "\n",
    "# Create a DataFrame for the coefficients\n",
    "coeffs = pd.DataFrame(multi_model.coef_, X_multi.columns, columns=['Coefficient'])\n",
    "print(coeffs)\n",
    "\n"
   ]
  },
  {
   "cell_type": "markdown",
   "id": "6ade6111",
   "metadata": {},
   "source": [
    "Interpretation: This DataFrame shows how much the house price is predicted to change for a one-unit increase in each feature, assuming all other features are held constant. For example, MedInc still has a strong positive coefficient, while AveRooms might have a smaller one."
   ]
  }
 ],
 "metadata": {
  "kernelspec": {
   "display_name": "venv (3.11.9)",
   "language": "python",
   "name": "python3"
  },
  "language_info": {
   "codemirror_mode": {
    "name": "ipython",
    "version": 3
   },
   "file_extension": ".py",
   "mimetype": "text/x-python",
   "name": "python",
   "nbconvert_exporter": "python",
   "pygments_lexer": "ipython3",
   "version": "3.11.9"
  }
 },
 "nbformat": 4,
 "nbformat_minor": 5
}
